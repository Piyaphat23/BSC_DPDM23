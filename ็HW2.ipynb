{
  "nbformat": 4,
  "nbformat_minor": 0,
  "metadata": {
    "colab": {
      "provenance": [],
      "authorship_tag": "ABX9TyNvl3jC6xO5moWgdpXI1rr6",
      "include_colab_link": true
    },
    "kernelspec": {
      "name": "python3",
      "display_name": "Python 3"
    },
    "language_info": {
      "name": "python"
    }
  },
  "cells": [
    {
      "cell_type": "markdown",
      "metadata": {
        "id": "view-in-github",
        "colab_type": "text"
      },
      "source": [
        "<a href=\"https://colab.research.google.com/github/Piyaphat23/BSC_DPDM23/blob/main/%E0%B9%87HW2.ipynb\" target=\"_parent\"><img src=\"https://colab.research.google.com/assets/colab-badge.svg\" alt=\"Open In Colab\"/></a>"
      ]
    },
    {
      "cell_type": "code",
      "execution_count": null,
      "metadata": {
        "id": "j-IzRBQYS6Ef"
      },
      "outputs": [],
      "source": []
    },
    {
      "cell_type": "markdown",
      "source": [
        "## HW2 ปิยพัทธ์ ปานะถึก"
      ],
      "metadata": {
        "id": "g5ZC8hw3S_Uv"
      }
    },
    {
      "cell_type": "markdown",
      "source": [
        "https://drive.google.com/file/d/1hTuTJmvf0ZiC8AKP11AmxjrDxQ_owHej/view?usp=sharing"
      ],
      "metadata": {
        "id": "uFa6gZTcTFcd"
      }
    }
  ]
}